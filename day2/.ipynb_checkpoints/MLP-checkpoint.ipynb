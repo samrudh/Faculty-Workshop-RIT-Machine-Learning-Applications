{
 "cells": [
  {
   "cell_type": "markdown",
   "metadata": {},
   "source": [
    "# Neural Networks for image classification"
   ]
  },
  {
   "cell_type": "code",
   "execution_count": null,
   "metadata": {},
   "outputs": [],
   "source": []
  },
  {
   "cell_type": "code",
   "execution_count": null,
   "metadata": {},
   "outputs": [],
   "source": [
    "import keras\n",
    "from keras.datasets import cifar10\n",
    "from keras.layers import Dense, Dropout, Flatten,Lambda,Reshape\n",
    "from keras.layers import Conv2D, MaxPooling2D,multiply,concatenate\n",
    "from keras import backend as K\n",
    "from keras.models import Model\n",
    "from keras.layers import Input, Dense\n",
    "from keras import optimizers\n",
    "from keras.constraints import Constraint\n",
    "from keras import backend as K\n",
    "from keras.layers import Activation\n",
    "from keras.callbacks import callbacks \n",
    "from keras.callbacks import ModelCheckpoint\n",
    "\n",
    "import random\n",
    "import os\n",
    "import numpy as np\n",
    "from matplotlib import pyplot as plt\n",
    "from progressbar import ProgressBar\n",
    "from keras.utils import np_utils\n",
    "\n",
    "from sklearn.model_selection import train_test_split\n",
    "from sklearn.manifold import TSNE\n",
    "from sklearn.metrics import log_loss"
   ]
  },
  {
   "cell_type": "code",
   "execution_count": null,
   "metadata": {},
   "outputs": [],
   "source": [
    "print (\"Libraries Imported\")\n",
    "batch_size = 40\n",
    "epochs = 12\n",
    "img_rows, img_cols = 32, 32\n",
    "(x_train, y_train), (x_test, y_test) = cifar10.load_data()\n",
    "\n",
    "\n",
    "if K.image_data_format() == 'channels_first':\n",
    "    x_train = x_train.reshape(x_train.shape[0], 3, img_rows, img_cols)\n",
    "    x_test = x_test.reshape(x_test.shape[0], 3, img_rows, img_cols)\n",
    "    input_shape = (3, img_rows, img_cols)\n",
    "else:\n",
    "    x_train = x_train.reshape(x_train.shape[0], img_rows, img_cols, 3)\n",
    "    x_test = x_test.reshape(x_test.shape[0], img_rows, img_cols, 3)\n",
    "    input_shape = (img_rows, img_cols, 3)\n",
    "\n",
    "\n",
    "X = np.reshape(np.vstack([x_train,x_test]),(-1,img_rows*img_cols*3))\n",
    "Y = np.reshape(np.vstack([y_train,y_test]),(-1,1))"
   ]
  },
  {
   "cell_type": "code",
   "execution_count": null,
   "metadata": {},
   "outputs": [],
   "source": [
    "x_train = np.array(x_train).reshape(-1,img_rows*img_cols*3) - np.mean(X,axis = 0)\n",
    "x_test = np.array(x_test).reshape(-1,img_rows*img_cols*3) - np.mean(X,axis = 0)\n",
    "y_train = np_utils.to_categorical(y_train, 10)\n",
    "y_test = np_utils.to_categorical(y_test, 10)"
   ]
  },
  {
   "cell_type": "code",
   "execution_count": null,
   "metadata": {},
   "outputs": [],
   "source": [
    "print (np.shape(x_train))\n",
    "print (np.shape(x_test))\n",
    "print (np.shape(y_train))\n",
    "print (np.shape(y_test))"
   ]
  },
  {
   "cell_type": "code",
   "execution_count": null,
   "metadata": {},
   "outputs": [],
   "source": [
    "def batch(batch_size, x = x_train, y = y_train):\n",
    "    samples = np.array(random.sample(range(1, len(x)), batch_size))\n",
    "    return x[samples],y[samples]"
   ]
  },
  {
   "cell_type": "code",
   "execution_count": null,
   "metadata": {},
   "outputs": [],
   "source": [
    "def calc_acc(model,x_test = x_test, y_test = y_test):\n",
    "    s1 = np.argmax(model.predict(x_test),axis=1)\n",
    "    s2 = np.argmax(y_test,axis=1)\n",
    "    c = 0\n",
    "    for i in range(len(s1)):\n",
    "        if s1[i] == s2[i]:\n",
    "            c +=1\n",
    "    return (c/np.shape(x_test)[0])*100"
   ]
  },
  {
   "cell_type": "code",
   "execution_count": null,
   "metadata": {},
   "outputs": [],
   "source": [
    "class WeightClip(Constraint):\n",
    "    def __init__(self, c=100):\n",
    "        self.c = c\n",
    "    def __call__(self, p):\n",
    "        return K.clip(p, 0, self.c)\n",
    "    def get_config(self):\n",
    "        return {'name': self.__class__.__name__,'c': self.c}"
   ]
  },
  {
   "cell_type": "code",
   "execution_count": null,
   "metadata": {},
   "outputs": [],
   "source": [
    "def get_model(model_select):\n",
    "    inp_1 = Input(shape=(3072,))\n",
    "    l11 = Dense(800, activation='elu',kernel_initializer='glorot_uniform')(inp_1)\n",
    "    if model_select == 'NN':\n",
    "        l12 = Dense(800, activation='elu',kernel_initializer='glorot_uniform')(l11)\n",
    "        l13 = Dense(800, activation='elu',kernel_initializer='glorot_uniform')(l12)\n",
    "        out = Dense(10, activation='softmax',kernel_initializer='glorot_uniform')(l13)\n",
    "    elif(model_select == 'IOC'):\n",
    "        l12 = Dense(800, activation='elu',kernel_initializer='glorot_uniform',W_constraint = WeightClip(2))(l11)\n",
    "        l13 = Dense(800, activation='elu',kernel_initializer='glorot_uniform',W_constraint = WeightClip(2))(l12)\n",
    "        out = Dense(10, activation='softmax',kernel_initializer='glorot_uniform',W_constraint = WeightClip(2))(l13)\n",
    "    else:\n",
    "        print (\"invalid model\")\n",
    "        return 0\n",
    "    model = Model(inputs=[inp_1], outputs=[out])\n",
    "    return model"
   ]
  },
  {
   "cell_type": "code",
   "execution_count": null,
   "metadata": {},
   "outputs": [],
   "source": [
    "select_model = \"NN\"\n",
    "model = get_model(select_model)"
   ]
  },
  {
   "cell_type": "code",
   "execution_count": null,
   "metadata": {},
   "outputs": [],
   "source": [
    "def compile_bin_model(model):\n",
    "    sgd = optimizers.SGD(lr=0.001, momentum=0.9, clipnorm=1.0, clipvalue=0.5)\n",
    "    model.compile(optimizer=keras.optimizers.Adam(lr = 0.0001) ,loss=keras.losses.categorical_crossentropy,metrics = ['accuracy'])\n",
    "    return model"
   ]
  },
  {
   "cell_type": "code",
   "execution_count": null,
   "metadata": {
    "scrolled": true
   },
   "outputs": [],
   "source": [
    "model1 = compile_bin_model(model)\n",
    "model1.summary()"
   ]
  },
  {
   "cell_type": "code",
   "execution_count": null,
   "metadata": {
    "scrolled": true
   },
   "outputs": [],
   "source": [
    "history_c = model.fit(x_train, y_train,  batch_size=batch_size, epochs=100,validation_data=(x_test, y_test), verbose=1)"
   ]
  },
  {
   "cell_type": "code",
   "execution_count": null,
   "metadata": {},
   "outputs": [],
   "source": [
    "b_l = history_c.history['val_loss']\n",
    "v_l = history_c.history['loss']\n",
    "acc_t = history_c.history['val_accuracy']\n",
    "acc_tr = history_c.history['accuracy']"
   ]
  },
  {
   "cell_type": "code",
   "execution_count": null,
   "metadata": {},
   "outputs": [],
   "source": [
    "fig = plt.figure(figsize=(8,10))\n",
    "plt.xlim(0, 40)\n",
    "plt.ylim(0, 41)\n",
    "\n",
    "ax = fig.gca()\n",
    "ax.set_xticks(np.arange(0, 40, 10))\n",
    "ax.set_yticks(np.arange(0, 41, 10))\n",
    "\n",
    "for tick in ax.xaxis.get_major_ticks():\n",
    "    tick.label.set_fontsize(20) \n",
    "\n",
    "for tick in ax.yaxis.get_major_ticks():\n",
    "    tick.label.set_fontsize(20) \n",
    "\n",
    "plt.plot(v_l[:40],'r-s' ,linewidth=4)\n",
    "plt.plot(b_l[:40],'g-o',linewidth=4)\n",
    "plt.grid()\n",
    "\n",
    "plt.title(str(select_model)+' Model Loss',fontsize=30)\n",
    "plt.ylabel('loss',fontsize=30)\n",
    "plt.xlabel('epoch',fontsize=30)\n",
    "plt.legend(['test', 'train'], loc='upper left', prop={\"size\":30})\n",
    "plt.savefig('./'+str(select_model)+'training_profile.png')"
   ]
  },
  {
   "cell_type": "code",
   "execution_count": null,
   "metadata": {},
   "outputs": [],
   "source": [
    "print (calc_acc(model1))\n",
    "print (calc_acc(model=model1,x_test=x_train,y_test=y_train))        "
   ]
  },
  {
   "cell_type": "code",
   "execution_count": null,
   "metadata": {},
   "outputs": [],
   "source": [
    "labels = ['airplane',\n",
    "'automobile', \n",
    "'bird',\n",
    "'cat',\n",
    "'deer',\n",
    "'dog',\n",
    "'frog',\n",
    "'horse',\n",
    "'ship',\n",
    "'truck']"
   ]
  },
  {
   "cell_type": "code",
   "execution_count": null,
   "metadata": {},
   "outputs": [],
   "source": [
    "s1 = np.argmax(model.predict(x_test),axis=1)\n",
    "s2 = np.argmax(y_test,axis=1)\n",
    "c = []\n",
    "pr_l = []\n",
    "for i in range(len(s1)):\n",
    "    if not s1[i] == s2[i]:\n",
    "        c.append(i)\n",
    "    pr_l.append(\"Label = \"+labels[s2[i]]+\"  Predicted_Label = \"+labels[s1[i]])"
   ]
  },
  {
   "cell_type": "code",
   "execution_count": null,
   "metadata": {},
   "outputs": [],
   "source": [
    "from sklearn.metrics import confusion_matrix\n",
    "cm = confusion_matrix(s1,s2)\n",
    "plt.imshow(cm, interpolation='nearest', cmap=plt.cm.Blues)\n",
    "plt.colorbar()\n",
    "tick_marks = np.arange(10)\n",
    "plt.xticks(tick_marks, labels, rotation=45)\n",
    "plt.yticks(tick_marks, labels)\n",
    "plt.savefig('./'+str(select_model)+'cnf_matrix.png')"
   ]
  },
  {
   "cell_type": "code",
   "execution_count": null,
   "metadata": {},
   "outputs": [],
   "source": [
    "if not os.path.exists('./error_images'):\n",
    "    os.makedirs('./error_images')"
   ]
  },
  {
   "cell_type": "code",
   "execution_count": null,
   "metadata": {
    "scrolled": true
   },
   "outputs": [],
   "source": [
    "(x_train, y_train), (x_test, y_test) = cifar10.load_data()\n",
    "for i,ele in enumerate(x_test[:100]):\n",
    "    if i in c:\n",
    "        plot_var = ele\n",
    "        plt.imshow(plot_var)\n",
    "        plt.title(pr_l[i])\n",
    "        plt.savefig('./error_images/'+str(i)+'.png')\n",
    "        break"
   ]
  },
  {
   "cell_type": "code",
   "execution_count": null,
   "metadata": {},
   "outputs": [],
   "source": []
  }
 ],
 "metadata": {
  "kernelspec": {
   "display_name": "Python 3",
   "language": "python",
   "name": "python3"
  },
  "language_info": {
   "codemirror_mode": {
    "name": "ipython",
    "version": 3
   },
   "file_extension": ".py",
   "mimetype": "text/x-python",
   "name": "python",
   "nbconvert_exporter": "python",
   "pygments_lexer": "ipython3",
   "version": "3.7.6"
  }
 },
 "nbformat": 4,
 "nbformat_minor": 4
}
